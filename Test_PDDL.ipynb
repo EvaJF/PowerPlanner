{
 "cells": [
  {
   "cell_type": "markdown",
   "metadata": {},
   "source": [
    "## Demo notebook for the use of pddlpy\n",
    "\n",
    "The PDDL problem used here is our own custom instance. It consists in a French tartiflette recipie. "
   ]
  },
  {
   "cell_type": "markdown",
   "metadata": {},
   "source": [
    "Note : possible version conflicts\n",
    "        \n",
    "> !pip3 install antlr4-python3-runtime==4.9.2\n",
    "\n",
    "partially fixes the conflict."
   ]
  },
  {
   "cell_type": "code",
   "execution_count": 1,
   "metadata": {},
   "outputs": [],
   "source": [
    "from pddlpy import DomainProblem"
   ]
  },
  {
   "cell_type": "code",
   "execution_count": 4,
   "metadata": {},
   "outputs": [
    {
     "name": "stdout",
     "output_type": "stream",
     "text": [
      "ANTLR runtime and generated code versions disagree: 4.9.2!=4.7\n",
      "ANTLR runtime and generated code versions disagree: 4.9.2!=4.7\n",
      "ANTLR runtime and generated code versions disagree: 4.9.2!=4.7\n",
      "ANTLR runtime and generated code versions disagree: 4.9.2!=4.7\n"
     ]
    }
   ],
   "source": [
    "domainfile = \"./domains/domain_recipies.pddl\" \n",
    "problemfile = \"./domains/problems/pb_tartiflette.pddl\" \n",
    "domprob = DomainProblem(domainfile, problemfile)"
   ]
  },
  {
   "cell_type": "code",
   "execution_count": 5,
   "metadata": {},
   "outputs": [
    {
     "data": {
      "text/plain": [
       "{'salad': 'ingredient',\n",
       " 'onion': 'ingredient',\n",
       " 'pan1': 'cooker',\n",
       " 'pan2': 'cooker',\n",
       " 'cheese': 'ingredient',\n",
       " 'bacon': 'ingredient',\n",
       " 'potatoe': 'ingredient'}"
      ]
     },
     "execution_count": 5,
     "metadata": {},
     "output_type": "execute_result"
    }
   ],
   "source": [
    "domprob.worldobjects()"
   ]
  },
  {
   "cell_type": "code",
   "execution_count": 6,
   "metadata": {},
   "outputs": [
    {
     "data": {
      "text/plain": [
       "dict_keys(['put', 'remove', 'cook', 'cut', 'clean'])"
      ]
     },
     "execution_count": 6,
     "metadata": {},
     "output_type": "execute_result"
    }
   ],
   "source": [
    "domprob.operators()"
   ]
  },
  {
   "cell_type": "code",
   "execution_count": 7,
   "metadata": {},
   "outputs": [
    {
     "data": {
      "text/plain": [
       "{('free', 'bacon'),\n",
       " ('free', 'cheese'),\n",
       " ('free', 'onion'),\n",
       " ('free', 'pan1'),\n",
       " ('free', 'pan2'),\n",
       " ('free', 'potatoe'),\n",
       " ('free', 'salad'),\n",
       " ('is_clean', 'pan1')}"
      ]
     },
     "execution_count": 7,
     "metadata": {},
     "output_type": "execute_result"
    }
   ],
   "source": [
    "domprob.initialstate()"
   ]
  },
  {
   "cell_type": "code",
   "execution_count": 8,
   "metadata": {},
   "outputs": [
    {
     "data": {
      "text/plain": [
       "{('cooked', 'bacon'),\n",
       " ('cooked', 'cheese'),\n",
       " ('cooked', 'onion'),\n",
       " ('cooked', 'potatoe'),\n",
       " ('cooked', 'salad'),\n",
       " ('is_clean', 'pan1'),\n",
       " ('is_clean', 'pan2')}"
      ]
     },
     "execution_count": 8,
     "metadata": {},
     "output_type": "execute_result"
    }
   ],
   "source": [
    "domprob.goals()"
   ]
  },
  {
   "cell_type": "code",
   "execution_count": 10,
   "metadata": {},
   "outputs": [
    {
     "name": "stdout",
     "output_type": "stream",
     "text": [
      "{('free', 'salad'), ('free', 'pan1'), ('is_clean', 'pan1')}\n",
      "{('in', 'salad', 'pan1')}\n",
      "{('free', 'salad'), ('free', 'pan1')}\n",
      "{('free', 'salad'), ('free', 'pan2'), ('is_clean', 'pan2')}\n",
      "{('in', 'salad', 'pan2')}\n",
      "{('free', 'salad'), ('free', 'pan2')}\n",
      "{('free', 'onion'), ('free', 'pan1'), ('is_clean', 'pan1')}\n",
      "{('in', 'onion', 'pan1')}\n",
      "{('free', 'onion'), ('free', 'pan1')}\n",
      "{('free', 'onion'), ('free', 'pan2'), ('is_clean', 'pan2')}\n",
      "{('in', 'onion', 'pan2')}\n",
      "{('free', 'onion'), ('free', 'pan2')}\n",
      "{('free', 'cheese'), ('free', 'pan1'), ('is_clean', 'pan1')}\n",
      "{('in', 'cheese', 'pan1')}\n",
      "{('free', 'cheese'), ('free', 'pan1')}\n",
      "{('free', 'pan2'), ('is_clean', 'pan2'), ('free', 'cheese')}\n",
      "{('in', 'cheese', 'pan2')}\n",
      "{('free', 'pan2'), ('free', 'cheese')}\n",
      "{('free', 'bacon'), ('free', 'pan1'), ('is_clean', 'pan1')}\n",
      "{('in', 'bacon', 'pan1')}\n",
      "{('free', 'bacon'), ('free', 'pan1')}\n",
      "{('free', 'pan2'), ('is_clean', 'pan2'), ('free', 'bacon')}\n",
      "{('in', 'bacon', 'pan2')}\n",
      "{('free', 'pan2'), ('free', 'bacon')}\n",
      "{('free', 'potatoe'), ('free', 'pan1'), ('is_clean', 'pan1')}\n",
      "{('in', 'potatoe', 'pan1')}\n",
      "{('free', 'potatoe'), ('free', 'pan1')}\n",
      "{('free', 'pan2'), ('is_clean', 'pan2'), ('free', 'potatoe')}\n",
      "{('in', 'potatoe', 'pan2')}\n",
      "{('free', 'pan2'), ('free', 'potatoe')}\n"
     ]
    }
   ],
   "source": [
    "L = list(domprob.ground_operator('put'))\n",
    "for i in range(len(L)):\n",
    "    print(L[i].precondition_pos)\n",
    "    print(L[i].effect_pos)\n",
    "    print(L[i].effect_neg)"
   ]
  },
  {
   "cell_type": "code",
   "execution_count": 11,
   "metadata": {},
   "outputs": [],
   "source": [
    "L0 = list(domprob.ground_operator('put'))[0]"
   ]
  },
  {
   "cell_type": "code",
   "execution_count": 12,
   "metadata": {},
   "outputs": [
    {
     "data": {
      "text/plain": [
       "{('free', 'pan1'), ('free', 'salad'), ('is_clean', 'pan1')}"
      ]
     },
     "execution_count": 12,
     "metadata": {},
     "output_type": "execute_result"
    }
   ],
   "source": [
    "L0.precondition_pos"
   ]
  },
  {
   "cell_type": "code",
   "execution_count": 13,
   "metadata": {},
   "outputs": [
    {
     "data": {
      "text/plain": [
       "dict_values(['salad', 'pan1'])"
      ]
     },
     "execution_count": 13,
     "metadata": {},
     "output_type": "execute_result"
    }
   ],
   "source": [
    "L0.variable_list.values()"
   ]
  },
  {
   "cell_type": "code",
   "execution_count": 14,
   "metadata": {},
   "outputs": [
    {
     "name": "stdout",
     "output_type": "stream",
     "text": [
      "Help on DomainProblem in module pddlpy.pddl object:\n",
      "\n",
      "class DomainProblem(builtins.object)\n",
      " |  Methods defined here:\n",
      " |  \n",
      " |  __init__(self, domainfile, problemfile)\n",
      " |      Parses a PDDL domain and problem files and\n",
      " |      returns an object representing them.\n",
      " |      \n",
      " |      domainfile -- path for the PDDL domain file\n",
      " |      problemfile -- path for the PDDL problem file\n",
      " |  \n",
      " |  goals(self)\n",
      " |      Returns a set of atoms (tuples of strings) corresponding to the goals\n",
      " |      defined in the problem file.\n",
      " |  \n",
      " |  ground_operator(self, op_name)\n",
      " |      Returns an interator of Operator instances. Each item of the iterator\n",
      " |      is a grounded instance.\n",
      " |      \n",
      " |      returns -- An iterator of Operator instances.\n",
      " |  \n",
      " |  initialstate(self)\n",
      " |      Returns a set of atoms (tuples of strings) corresponding to the intial\n",
      " |      state defined in the problem file.\n",
      " |  \n",
      " |  operators(self)\n",
      " |      Returns an iterator of the names of the actions defined in\n",
      " |      the domain file.\n",
      " |  \n",
      " |  worldobjects(self)\n",
      " |      Returns a dictionary of key value pairs where the key is the name of\n",
      " |      an object and the value is it's type (None in case is untyped.)\n",
      " |  \n",
      " |  ----------------------------------------------------------------------\n",
      " |  Data descriptors defined here:\n",
      " |  \n",
      " |  __dict__\n",
      " |      dictionary for instance variables (if defined)\n",
      " |  \n",
      " |  __weakref__\n",
      " |      list of weak references to the object (if defined)\n",
      "\n"
     ]
    }
   ],
   "source": [
    "help(domprob)"
   ]
  },
  {
   "cell_type": "code",
   "execution_count": 16,
   "metadata": {},
   "outputs": [
    {
     "name": "stdout",
     "output_type": "stream",
     "text": [
      "ground for operator put applicable if (adjacent loc1 loc2)\n"
     ]
    }
   ],
   "source": [
    "ops_to_test = {1:\"put\", 2:\"move\", 3:\"move\", 4:\"move\", 5:\"cut\"}\n",
    "op = ops_to_test[1]\n",
    "print(\"ground for operator\", op, \"applicable if (adjacent loc1 loc2)\")\n",
    "for o in domprob.ground_operator(op):\n",
    "    if (\"adjacent\",\"loc1\",\"loc2\") in o.precondition_pos:\n",
    "        print()\n",
    "        print( \"\\tvars\", o.variable_list )\n",
    "        print( \"\\tpre+\", o.precondition_pos )\n",
    "        print( \"\\tpre-\", o.precondition_neg )\n",
    "        print( \"\\teff+\", o.effect_pos )\n",
    "        print( \"\\teff-\", o.effect_neg )"
   ]
  },
  {
   "cell_type": "code",
   "execution_count": null,
   "metadata": {},
   "outputs": [],
   "source": []
  }
 ],
 "metadata": {
  "kernelspec": {
   "display_name": "Python 3",
   "language": "python",
   "name": "python3"
  },
  "language_info": {
   "codemirror_mode": {
    "name": "ipython",
    "version": 3
   },
   "file_extension": ".py",
   "mimetype": "text/x-python",
   "name": "python",
   "nbconvert_exporter": "python",
   "pygments_lexer": "ipython3",
   "version": "3.6.7"
  }
 },
 "nbformat": 4,
 "nbformat_minor": 4
}
