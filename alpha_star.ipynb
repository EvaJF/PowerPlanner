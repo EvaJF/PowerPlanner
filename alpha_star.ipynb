{
 "cells": [
  {
   "cell_type": "code",
   "execution_count": 1,
   "metadata": {},
   "outputs": [],
   "source": [
    "from pddlpy import DomainProblem\n",
    "from parser import Domain\n",
    "from PDDL import PDDL_Parser\n",
    "from heuristic import Heuristic_HSP, Heuristic_HSP_Neg, heuristic_null, heuristic_0\n",
    "from planifier import AlphaStarPlannifier"
   ]
  },
  {
   "cell_type": "markdown",
   "metadata": {},
   "source": [
    "## Experiments"
   ]
  },
  {
   "cell_type": "code",
   "execution_count": 8,
   "metadata": {},
   "outputs": [
    {
     "name": "stdout",
     "output_type": "stream",
     "text": [
      "ANTLR runtime and generated code versions disagree: 4.9.2!=4.7\n",
      "ANTLR runtime and generated code versions disagree: 4.9.2!=4.7\n",
      "ANTLR runtime and generated code versions disagree: 4.9.2!=4.7\n",
      "ANTLR runtime and generated code versions disagree: 4.9.2!=4.7\n",
      "Plan size: 21 | Number of visited nodes: 7505 | Solved in 29.425442934036255s\n"
     ]
    }
   ],
   "source": [
    "# for testing HSP_Neg\n",
    "domainfile = \"./pddl_domains/domain_recipies.pddl\" \n",
    "problemfile = \"./pddl_domains/pb_tartiflette.pddl\" \n",
    "\n",
    "domain = Domain(domainfile, problemfile)\n",
    "hsp = Heuristic_HSP_Neg(domain=domain)\n",
    "planif = AlphaStarPlannifier(domain=domain, heuristic_fn=hsp.heuristic_hsp)\n",
    "plan = planif.solve()"
   ]
  },
  {
   "cell_type": "code",
   "execution_count": 9,
   "metadata": {},
   "outputs": [
    {
     "name": "stdout",
     "output_type": "stream",
     "text": [
      "Plan size: 21 | Number of visited nodes: 7505 | Solved in 31.25601100921631s\n"
     ]
    }
   ],
   "source": [
    "# for testing HSP_Neg (with FAIL)\n",
    "hsp = Heuristic_HSP_Neg(domain=domain)\n",
    "planif = AlphaStarPlannifier(domain=domain, heuristic_fn=hsp.heuristic_hsp)\n",
    "plan = planif.solve()"
   ]
  },
  {
   "cell_type": "code",
   "execution_count": 10,
   "metadata": {},
   "outputs": [
    {
     "name": "stdout",
     "output_type": "stream",
     "text": [
      "Plan size: 21 | Number of visited nodes: 8285 | Solved in 38.7452290058136s\n"
     ]
    }
   ],
   "source": [
    "# for testing HSP+\n",
    "hsp = Heuristic_HSP(domain=domain)\n",
    "planif = AlphaStarPlannifier(domain=domain, heuristic_fn=hsp.heuristic_hsp)\n",
    "plan = planif.solve()"
   ]
  },
  {
   "cell_type": "code",
   "execution_count": 11,
   "metadata": {},
   "outputs": [
    {
     "name": "stdout",
     "output_type": "stream",
     "text": [
      "Plan size: 21 | Number of visited nodes: 8285 | Solved in 36.37448716163635s\n"
     ]
    }
   ],
   "source": [
    "# for testing HSPmax\n",
    "hsp = Heuristic_HSP(domain=domain)\n",
    "planif = AlphaStarPlannifier(domain=domain, heuristic_fn=hsp.heuristic_hsp)\n",
    "plan = planif.solve()"
   ]
  },
  {
   "cell_type": "code",
   "execution_count": 12,
   "metadata": {},
   "outputs": [
    {
     "ename": "NameError",
     "evalue": "name 'domprob' is not defined",
     "output_type": "error",
     "traceback": [
      "\u001b[0;31m---------------------------------------------------------------------------\u001b[0m",
      "\u001b[0;31mNameError\u001b[0m                                 Traceback (most recent call last)",
      "\u001b[0;32m<ipython-input-12-b269968be796>\u001b[0m in \u001b[0;36m<module>\u001b[0;34m\u001b[0m\n\u001b[1;32m      1\u001b[0m \u001b[0;31m# for testing Heuristic_0\u001b[0m\u001b[0;34m\u001b[0m\u001b[0;34m\u001b[0m\u001b[0;34m\u001b[0m\u001b[0m\n\u001b[0;32m----> 2\u001b[0;31m \u001b[0mdomain\u001b[0m \u001b[0;34m=\u001b[0m \u001b[0mDomain\u001b[0m\u001b[0;34m(\u001b[0m\u001b[0mpddlpy_domprob\u001b[0m\u001b[0;34m=\u001b[0m\u001b[0mdomprob\u001b[0m\u001b[0;34m,\u001b[0m \u001b[0mparser\u001b[0m\u001b[0;34m=\u001b[0m\u001b[0mparser\u001b[0m\u001b[0;34m)\u001b[0m\u001b[0;34m\u001b[0m\u001b[0;34m\u001b[0m\u001b[0m\n\u001b[0m\u001b[1;32m      3\u001b[0m \u001b[0mplanif\u001b[0m \u001b[0;34m=\u001b[0m \u001b[0mAlphaStarPlannifier\u001b[0m\u001b[0;34m(\u001b[0m\u001b[0mdomain\u001b[0m\u001b[0;34m=\u001b[0m\u001b[0mdomain\u001b[0m\u001b[0;34m,\u001b[0m \u001b[0mheuristic_fn\u001b[0m\u001b[0;34m=\u001b[0m\u001b[0mheuristic_0\u001b[0m\u001b[0;34m)\u001b[0m\u001b[0;34m\u001b[0m\u001b[0;34m\u001b[0m\u001b[0m\n\u001b[1;32m      4\u001b[0m \u001b[0mplan\u001b[0m \u001b[0;34m=\u001b[0m \u001b[0mplanif\u001b[0m\u001b[0;34m.\u001b[0m\u001b[0msolve\u001b[0m\u001b[0;34m(\u001b[0m\u001b[0;34m)\u001b[0m\u001b[0;34m\u001b[0m\u001b[0;34m\u001b[0m\u001b[0m\n",
      "\u001b[0;31mNameError\u001b[0m: name 'domprob' is not defined"
     ]
    }
   ],
   "source": [
    "# for testing Heuristic_0\n",
    "planif = AlphaStarPlannifier(domain=domain, heuristic_fn=heuristic_0)\n",
    "plan = planif.solve()"
   ]
  },
  {
   "cell_type": "code",
   "execution_count": null,
   "metadata": {},
   "outputs": [],
   "source": [
    "# for testing Heuristic_null\n",
    "domain = Domain(pddlpy_domprob=domprob, parser=parser)\n",
    "planif = AlphaStarPlannifier(domain=domain, heuristic_fn=heuristic_null)\n",
    "plan = planif.solve()"
   ]
  },
  {
   "cell_type": "code",
   "execution_count": null,
   "metadata": {},
   "outputs": [],
   "source": [
    "## Heuristic null\n",
    "plan"
   ]
  },
  {
   "cell_type": "code",
   "execution_count": 84,
   "metadata": {},
   "outputs": [
    {
     "data": {
      "text/plain": [
       "[('clean', ('pan2',)),\n",
       " ('cut', ('onion',)),\n",
       " ('put', ('onion', 'pan1')),\n",
       " ('cook', ('onion', 'pan1')),\n",
       " ('remove', ('onion', 'pan1')),\n",
       " ('cut', ('potatoe',)),\n",
       " ('put', ('potatoe', 'pan2')),\n",
       " ('cook', ('potatoe', 'pan2')),\n",
       " ('remove', ('potatoe', 'pan2')),\n",
       " ('cut', ('cheese',)),\n",
       " ('cut', ('bacon',)),\n",
       " ('clean', ('pan2',)),\n",
       " ('put', ('cheese', 'pan2')),\n",
       " ('cook', ('cheese', 'pan2')),\n",
       " ('remove', ('cheese', 'pan2')),\n",
       " ('clean', ('pan2',)),\n",
       " ('put', ('bacon', 'pan2')),\n",
       " ('cook', ('bacon', 'pan2')),\n",
       " ('remove', ('bacon', 'pan2')),\n",
       " ('clean', ('pan2',)),\n",
       " ('clean', ('pan1',))]"
      ]
     },
     "execution_count": 84,
     "metadata": {},
     "output_type": "execute_result"
    }
   ],
   "source": [
    "## Heuristic baseline\n",
    "plan"
   ]
  },
  {
   "cell_type": "code",
   "execution_count": 249,
   "metadata": {},
   "outputs": [
    {
     "data": {
      "text/plain": [
       "[('clean', ('pan2',)),\n",
       " ('cut', ('onion',)),\n",
       " ('cut', ('bacon',)),\n",
       " ('cut', ('cheese',)),\n",
       " ('cut', ('potatoe',)),\n",
       " ('put', ('onion', 'pan2')),\n",
       " ('cook', ('onion', 'pan2')),\n",
       " ('remove', ('onion', 'pan2')),\n",
       " ('clean', ('pan2',)),\n",
       " ('put', ('bacon', 'pan2')),\n",
       " ('cook', ('bacon', 'pan2')),\n",
       " ('remove', ('bacon', 'pan2')),\n",
       " ('clean', ('pan2',)),\n",
       " ('put', ('cheese', 'pan2')),\n",
       " ('cook', ('cheese', 'pan2')),\n",
       " ('remove', ('cheese', 'pan2')),\n",
       " ('clean', ('pan2',)),\n",
       " ('put', ('potatoe', 'pan2')),\n",
       " ('cook', ('potatoe', 'pan2')),\n",
       " ('remove', ('potatoe', 'pan2')),\n",
       " ('clean', ('pan2',))]"
      ]
     },
     "execution_count": 249,
     "metadata": {},
     "output_type": "execute_result"
    }
   ],
   "source": [
    "## HSP baseline\n",
    "plan"
   ]
  },
  {
   "cell_type": "code",
   "execution_count": 301,
   "metadata": {},
   "outputs": [
    {
     "data": {
      "text/plain": [
       "[('clean', ('pan2',)),\n",
       " ('cut', ('potatoe',)),\n",
       " ('put', ('potatoe', 'pan1')),\n",
       " ('cook', ('potatoe', 'pan1')),\n",
       " ('remove', ('potatoe', 'pan1')),\n",
       " ('cut', ('cheese',)),\n",
       " ('put', ('cheese', 'pan2')),\n",
       " ('cook', ('cheese', 'pan2')),\n",
       " ('remove', ('cheese', 'pan2')),\n",
       " ('cut', ('bacon',)),\n",
       " ('cut', ('onion',)),\n",
       " ('clean', ('pan1',)),\n",
       " ('put', ('bacon', 'pan1')),\n",
       " ('cook', ('bacon', 'pan1')),\n",
       " ('remove', ('bacon', 'pan1')),\n",
       " ('clean', ('pan1',)),\n",
       " ('put', ('onion', 'pan1')),\n",
       " ('cook', ('onion', 'pan1')),\n",
       " ('remove', ('onion', 'pan1')),\n",
       " ('clean', ('pan1',)),\n",
       " ('clean', ('pan2',))]"
      ]
     },
     "execution_count": 301,
     "metadata": {},
     "output_type": "execute_result"
    }
   ],
   "source": [
    "## HSP_Neg\n",
    "plan"
   ]
  }
 ],
 "metadata": {
  "kernelspec": {
   "display_name": "base_env",
   "language": "python",
   "name": "base_env"
  },
  "language_info": {
   "codemirror_mode": {
    "name": "ipython",
    "version": 3
   },
   "file_extension": ".py",
   "mimetype": "text/x-python",
   "name": "python",
   "nbconvert_exporter": "python",
   "pygments_lexer": "ipython3",
   "version": "3.8.6"
  }
 },
 "nbformat": 4,
 "nbformat_minor": 2
}