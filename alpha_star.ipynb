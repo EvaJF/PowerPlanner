{
 "cells": [
  {
   "cell_type": "code",
   "execution_count": 1,
   "metadata": {},
   "outputs": [],
   "source": [
    "from pddlpy import DomainProblem\n",
    "from parser import Domain\n",
    "from PDDL import PDDL_Parser\n",
    "from heuristic import Heuristic_HSP, Heuristic_HSP_Neg, heuristic_null, heuristic_0\n",
    "from planifier import AlphaStarPlannifier\n",
    "import os"
   ]
  },
  {
   "cell_type": "markdown",
   "metadata": {},
   "source": [
    "## Experiments"
   ]
  },
  {
   "cell_type": "code",
   "execution_count": 2,
   "metadata": {},
   "outputs": [
    {
     "ename": "NameError",
     "evalue": "name 'domain' is not defined",
     "output_type": "error",
     "traceback": [
      "\u001b[0;31m---------------------------------------------------------------------------\u001b[0m",
      "\u001b[0;31mNameError\u001b[0m                                 Traceback (most recent call last)",
      "\u001b[0;32m<ipython-input-2-5549d3b05e00>\u001b[0m in \u001b[0;36m<module>\u001b[0;34m\u001b[0m\n\u001b[0;32m----> 1\u001b[0;31m \u001b[0mdomain\u001b[0m\u001b[0;34m.\u001b[0m\u001b[0mparser_help\u001b[0m\u001b[0;34m.\u001b[0m\u001b[0mtypes\u001b[0m\u001b[0;34m\u001b[0m\u001b[0;34m\u001b[0m\u001b[0m\n\u001b[0m",
      "\u001b[0;31mNameError\u001b[0m: name 'domain' is not defined"
     ]
    }
   ],
   "source": [
    "domain.parser_help.types"
   ]
  },
  {
   "cell_type": "code",
   "execution_count": 44,
   "metadata": {},
   "outputs": [
    {
     "name": "stdout",
     "output_type": "stream",
     "text": [
      "from_deck_to_base\n",
      "dict_keys(['?c', '?o']) dict_values(['card', 'object']) []\n",
      "from_base_to_base\n",
      "dict_keys(['?c', '?o1', '?o2']) dict_values(['card', 'object', 'object']) []\n",
      "place_from_deck\n",
      "dict_keys(['?c', '?o']) dict_values(['card', 'object']) []\n",
      "place_from_base\n",
      "dict_keys(['?c', '?o1', '?o2']) dict_values(['card', 'object', 'object']) []\n",
      "return\n",
      "dict_keys(['?c', '?o1', '?o2']) dict_values(['card', 'object', 'object']) []\n"
     ]
    }
   ],
   "source": [
    "import itertools\n",
    "\n",
    "class Action():\n",
    "    def __init__(self, name):\n",
    "        self.name = name\n",
    "        self.action_dic=dict()\n",
    "        self.arg_type = list()\n",
    "        \n",
    "action_dic = dict()\n",
    "for op in domain.domprob.operators():\n",
    "    my_op = Action(name = op)\n",
    "    action_dic[op]=my_op\n",
    "for op in action_dic.keys():\n",
    "    print(op)\n",
    "    operator = domain.domprob.domain.operators[op]\n",
    "    var_names = operator.variable_list.keys()\n",
    "    var_types = operator.variable_list.values()\n",
    "    var_combinations = itertools.product(*[domain.reversed_objects[typ] for typ in var_types])\n",
    "    print(var_names, var_types, [x for x in var_combinations])\n",
    "    for var_list in var_combinations:\n",
    "        value=dict()\n",
    "        # ground preconditions and effects\n",
    "        value[\"preconditions_pos\"] = {prec.ground({name:inst for (name, inst) in zip(var_names, var_list)}) for prec in operator.precondition_pos}\n",
    "        value[\"preconditions_neg\"] =  {prec.ground({name:inst for (name, inst) in zip(var_names, var_list)}) for prec in operator.precondition_neg}\n",
    "        value[\"effets_pos\"] = {prec.ground({name:inst for (name, inst) in zip(var_names, var_list)}) for prec in operator.effect_pos}\n",
    "        value[\"effets_neg\"] = {prec.ground({name:inst for (name, inst) in zip(var_names, var_list)}) for prec in operator.effect_neg}\n",
    "        action_dic[op].action_dic[tuple(var_list)] = value  "
   ]
  },
  {
   "cell_type": "code",
   "execution_count": 31,
   "metadata": {},
   "outputs": [
    {
     "name": "stdout",
     "output_type": "stream",
     "text": [
      "from_deck_to_base ['card', 'object'] {('ondeck', '?c'), ('can_move_on_top', '?c', '?o'), ('free', '?o')}\n",
      "from_base_to_base ['card', 'object', 'object'] {('can_move_on_top', '?c', '?o2'), ('on', '?c', '?o1'), ('free', '?o2')}\n",
      "place_from_deck ['card', 'object'] {('placed', '?o'), ('ondeck', '?c'), ('can_place_on_top', '?c', '?o'), ('free', '?o')}\n",
      "place_from_base ['card', 'object', 'object'] {('can_place_on_top', '?c', '?o2'), ('placed', '?o2'), ('on', '?c', '?o1'), ('free', '?c'), ('free', '?o2')}\n",
      "return ['card', 'object', 'object'] {('free', '?c'), ('free', '?o2'), ('can_move_on_top', '?c', '?o2'), ('placed', '?c'), ('on', '?c', '?o1')}\n"
     ]
    },
    {
     "data": {
      "text/plain": [
       "{('can_move_on_top', 'jack_club', 'queen_club'),\n",
       " ('can_move_on_top', 'jack_club', 'queen_diamond'),\n",
       " ('can_move_on_top', 'jack_diamond', 'queen_club'),\n",
       " ('can_move_on_top', 'jack_diamond', 'queen_diamond'),\n",
       " ('can_move_on_top', 'king_club', 'base_col_1'),\n",
       " ('can_move_on_top', 'king_club', 'base_col_2'),\n",
       " ('can_move_on_top', 'king_diamond', 'base_col_1'),\n",
       " ('can_move_on_top', 'king_diamond', 'base_col_2'),\n",
       " ('can_move_on_top', 'queen_club', 'king_club'),\n",
       " ('can_move_on_top', 'queen_club', 'king_diamond'),\n",
       " ('can_move_on_top', 'queen_diamond', 'king_club'),\n",
       " ('can_move_on_top', 'queen_diamond', 'king_diamond'),\n",
       " ('can_place_on_top', 'jack_club', 'end_col_1'),\n",
       " ('can_place_on_top', 'jack_diamond', 'end_col_2'),\n",
       " ('can_place_on_top', 'king_club', 'queen_club'),\n",
       " ('can_place_on_top', 'king_diamond', 'queen_diamond'),\n",
       " ('can_place_on_top', 'queen_club', 'jack_club'),\n",
       " ('can_place_on_top', 'queen_diamond', 'jack_diamond'),\n",
       " ('free', 'end_col_1'),\n",
       " ('free', 'end_col_2'),\n",
       " ('free', 'jack_club'),\n",
       " ('free', 'king_diamond'),\n",
       " ('free', 'queen_club'),\n",
       " ('on', 'jack_club', 'queen_diamond'),\n",
       " ('on', 'jack_diamond', 'base_col_2'),\n",
       " ('on', 'king_club', 'base_col_3'),\n",
       " ('on', 'king_diamond', 'jack_diamond'),\n",
       " ('on', 'queen_club', 'base_col_1'),\n",
       " ('on', 'queen_diamond', 'king_club'),\n",
       " ('placed', 'end_col_1'),\n",
       " ('placed', 'end_col_2')}"
      ]
     },
     "execution_count": 31,
     "metadata": {},
     "output_type": "execute_result"
    }
   ],
   "source": [
    "for name, op in domain.domprob.domain.operators.items():\n",
    "    print(name, list(op.variable_list.values()), op.precondition_pos)\n",
    "domain.domprob.problem.initialstate"
   ]
  },
  {
   "cell_type": "code",
   "execution_count": 5,
   "metadata": {},
   "outputs": [
    {
     "name": "stdout",
     "output_type": "stream",
     "text": [
      "ANTLR runtime and generated code versions disagree: 4.9.2!=4.7\n",
      "ANTLR runtime and generated code versions disagree: 4.9.2!=4.7\n",
      "ANTLR runtime and generated code versions disagree: 4.9.2!=4.7\n",
      "ANTLR runtime and generated code versions disagree: 4.9.2!=4.7\n"
     ]
    },
    {
     "name": "stderr",
     "output_type": "stream",
     "text": [
      "line 62:5 missing ')' at '('\n"
     ]
    },
    {
     "data": {
      "text/plain": [
       "defaultdict(list,\n",
       "            {'card': ['king_club',\n",
       "              'king_diamond',\n",
       "              'queen_club',\n",
       "              'queen_diamond',\n",
       "              'jack_club',\n",
       "              'jack_diamond'],\n",
       "             'column': ['base_col_1',\n",
       "              'base_col_2',\n",
       "              'base_col_3',\n",
       "              'end_col_1',\n",
       "              'end_col_2'],\n",
       "             'object': ['king_club',\n",
       "              'king_diamond',\n",
       "              'queen_club',\n",
       "              'queen_diamond',\n",
       "              'jack_club',\n",
       "              'jack_diamond',\n",
       "              'base_col_1',\n",
       "              'base_col_2',\n",
       "              'base_col_3',\n",
       "              'end_col_1',\n",
       "              'end_col_2']})"
      ]
     },
     "execution_count": 5,
     "metadata": {},
     "output_type": "execute_result"
    }
   ],
   "source": [
    "problemfile =\"./planning_domains/solitaire/problem_solitaire_3cards_2colors.pddl\"\n",
    "domainfile =\"./planning_domains/solitaire/domain.pddl\"\n",
    "domain = Domain(domainfile, problemfile)\n",
    "domain.reversed_objects"
   ]
  },
  {
   "cell_type": "code",
   "execution_count": null,
   "metadata": {},
   "outputs": [
    {
     "name": "stdout",
     "output_type": "stream",
     "text": [
      "***  SOLITAIRE  ***\n",
      "ANTLR runtime and generated code versions disagree: 4.9.2!=4.7\n",
      "ANTLR runtime and generated code versions disagree: 4.9.2!=4.7\n",
      "ANTLR runtime and generated code versions disagree: 4.9.2!=4.7\n",
      "ANTLR runtime and generated code versions disagree: 4.9.2!=4.7\n",
      "problem_solitaire_7cards_1color.pddl\n",
      "3 children\n",
      "('place_from_deck', ('seven', 'end_col'))\n",
      "3 children\n",
      "('return', ('seven', 'end_col', 'eight'))\n",
      "2 children\n",
      "('from_deck_to_base', ('queen', 'king'))\n",
      "1 children\n",
      "('place_from_base', ('seven', 'eight', 'end_col'))\n",
      "2 children\n",
      "('place_from_base', ('eight', 'base_col_1', 'seven'))\n",
      "2 children\n",
      "('place_from_deck', ('nine', 'eight'))\n",
      "2 children\n",
      "FAILED do tue  maximum recursion depth exceeded in comparison\n",
      "\n",
      "ANTLR runtime and generated code versions disagree: 4.9.2!=4.7\n",
      "ANTLR runtime and generated code versions disagree: 4.9.2!=4.7\n",
      "ANTLR runtime and generated code versions disagree: 4.9.2!=4.7\n",
      "ANTLR runtime and generated code versions disagree: 4.9.2!=4.7\n",
      "problem_solitaire.pddl\n",
      "1 children\n",
      "('from_base_to_base', ('king', 'ten', 'base_col_2'))\n",
      "1 children\n",
      "('place_from_base', ('ten', 'base_col_1', 'end_col'))\n",
      "1 children\n",
      "('place_from_deck', ('jack', 'ten'))\n",
      "1 children\n",
      "('place_from_base', ('queen', 'king', 'jack'))\n",
      "1 children\n",
      "Plan size: 5 | Number of visited nodes: 5 | Solved in 7.874156951904297s\n",
      "\n",
      "ANTLR runtime and generated code versions disagree: 4.9.2!=4.7\n",
      "ANTLR runtime and generated code versions disagree: 4.9.2!=4.7\n",
      "ANTLR runtime and generated code versions disagree: 4.9.2!=4.7\n",
      "ANTLR runtime and generated code versions disagree: 4.9.2!=4.7\n",
      "problem_solitaire_7cards_2colors.pddl\n",
      "5 children\n"
     ]
    }
   ],
   "source": [
    "# for testing HSP_Neg\n",
    "domainfile = \"./pddl_domains/domain_recipies.pddl\" \n",
    "problemfile = \"./pddl_domains/pb_traiteur.pddl\" \n",
    "root = './planning_domains'\n",
    "for domain_folder in os.listdir(root):\n",
    "    print('*** ',domain_folder.upper(),' ***')\n",
    "    domainfile = os.path.join(root, domain_folder, 'domain.pddl')\n",
    "    for file in os.listdir(os.path.join(root, domain_folder)):\n",
    "        if file == 'domain.pddl':\n",
    "            continue\n",
    "        try:\n",
    "            problemfile = os.path.join(root, domain_folder, file)\n",
    "            domain = Domain(domainfile, problemfile)\n",
    "            hsp = Heuristic_HSP_Neg(domain=domain)\n",
    "            planif = AlphaStarPlannifier(domain=domain, heuristic_fn=hsp.heuristic_hsp)\n",
    "            print(file)\n",
    "            plan = planif.solve()\n",
    "        except Exception as e:\n",
    "            print('FAILED do tue ', e)\n",
    "        print()"
   ]
  },
  {
   "cell_type": "code",
   "execution_count": 9,
   "metadata": {},
   "outputs": [
    {
     "name": "stdout",
     "output_type": "stream",
     "text": [
      "Plan size: 21 | Number of visited nodes: 7505 | Solved in 31.25601100921631s\n"
     ]
    }
   ],
   "source": [
    "# for testing HSP_Neg (with FAIL)\n",
    "hsp = Heuristic_HSP_Neg(domain=domain)\n",
    "planif = AlphaStarPlannifier(domain=domain, heuristic_fn=hsp.heuristic_hsp)\n",
    "plan = planif.solve()"
   ]
  },
  {
   "cell_type": "code",
   "execution_count": 10,
   "metadata": {},
   "outputs": [
    {
     "name": "stdout",
     "output_type": "stream",
     "text": [
      "Plan size: 21 | Number of visited nodes: 8285 | Solved in 38.7452290058136s\n"
     ]
    }
   ],
   "source": [
    "# for testing HSP+\n",
    "hsp = Heuristic_HSP(domain=domain)\n",
    "planif = AlphaStarPlannifier(domain=domain, heuristic_fn=hsp.heuristic_hsp)\n",
    "plan = planif.solve()"
   ]
  },
  {
   "cell_type": "code",
   "execution_count": 11,
   "metadata": {},
   "outputs": [
    {
     "name": "stdout",
     "output_type": "stream",
     "text": [
      "Plan size: 21 | Number of visited nodes: 8285 | Solved in 36.37448716163635s\n"
     ]
    }
   ],
   "source": [
    "# for testing HSPmax\n",
    "hsp = Heuristic_HSP(domain=domain)\n",
    "planif = AlphaStarPlannifier(domain=domain, heuristic_fn=hsp.heuristic_hsp)\n",
    "plan = planif.solve()"
   ]
  },
  {
   "cell_type": "code",
   "execution_count": 12,
   "metadata": {},
   "outputs": [
    {
     "ename": "NameError",
     "evalue": "name 'domprob' is not defined",
     "output_type": "error",
     "traceback": [
      "\u001b[0;31m---------------------------------------------------------------------------\u001b[0m",
      "\u001b[0;31mNameError\u001b[0m                                 Traceback (most recent call last)",
      "\u001b[0;32m<ipython-input-12-b269968be796>\u001b[0m in \u001b[0;36m<module>\u001b[0;34m\u001b[0m\n\u001b[1;32m      1\u001b[0m \u001b[0;31m# for testing Heuristic_0\u001b[0m\u001b[0;34m\u001b[0m\u001b[0;34m\u001b[0m\u001b[0;34m\u001b[0m\u001b[0m\n\u001b[0;32m----> 2\u001b[0;31m \u001b[0mdomain\u001b[0m \u001b[0;34m=\u001b[0m \u001b[0mDomain\u001b[0m\u001b[0;34m(\u001b[0m\u001b[0mpddlpy_domprob\u001b[0m\u001b[0;34m=\u001b[0m\u001b[0mdomprob\u001b[0m\u001b[0;34m,\u001b[0m \u001b[0mparser\u001b[0m\u001b[0;34m=\u001b[0m\u001b[0mparser\u001b[0m\u001b[0;34m)\u001b[0m\u001b[0;34m\u001b[0m\u001b[0;34m\u001b[0m\u001b[0m\n\u001b[0m\u001b[1;32m      3\u001b[0m \u001b[0mplanif\u001b[0m \u001b[0;34m=\u001b[0m \u001b[0mAlphaStarPlannifier\u001b[0m\u001b[0;34m(\u001b[0m\u001b[0mdomain\u001b[0m\u001b[0;34m=\u001b[0m\u001b[0mdomain\u001b[0m\u001b[0;34m,\u001b[0m \u001b[0mheuristic_fn\u001b[0m\u001b[0;34m=\u001b[0m\u001b[0mheuristic_0\u001b[0m\u001b[0;34m)\u001b[0m\u001b[0;34m\u001b[0m\u001b[0;34m\u001b[0m\u001b[0m\n\u001b[1;32m      4\u001b[0m \u001b[0mplan\u001b[0m \u001b[0;34m=\u001b[0m \u001b[0mplanif\u001b[0m\u001b[0;34m.\u001b[0m\u001b[0msolve\u001b[0m\u001b[0;34m(\u001b[0m\u001b[0;34m)\u001b[0m\u001b[0;34m\u001b[0m\u001b[0;34m\u001b[0m\u001b[0m\n",
      "\u001b[0;31mNameError\u001b[0m: name 'domprob' is not defined"
     ]
    }
   ],
   "source": [
    "# for testing Heuristic_0\n",
    "planif = AlphaStarPlannifier(domain=domain, heuristic_fn=heuristic_0)\n",
    "plan = planif.solve()"
   ]
  },
  {
   "cell_type": "code",
   "execution_count": null,
   "metadata": {},
   "outputs": [],
   "source": [
    "# for testing Heuristic_null\n",
    "domain = Domain(pddlpy_domprob=domprob, parser=parser)\n",
    "planif = AlphaStarPlannifier(domain=domain, heuristic_fn=heuristic_null)\n",
    "plan = planif.solve()"
   ]
  },
  {
   "cell_type": "code",
   "execution_count": null,
   "metadata": {},
   "outputs": [],
   "source": [
    "## Heuristic null\n",
    "plan"
   ]
  },
  {
   "cell_type": "code",
   "execution_count": 84,
   "metadata": {},
   "outputs": [
    {
     "data": {
      "text/plain": [
       "[('clean', ('pan2',)),\n",
       " ('cut', ('onion',)),\n",
       " ('put', ('onion', 'pan1')),\n",
       " ('cook', ('onion', 'pan1')),\n",
       " ('remove', ('onion', 'pan1')),\n",
       " ('cut', ('potatoe',)),\n",
       " ('put', ('potatoe', 'pan2')),\n",
       " ('cook', ('potatoe', 'pan2')),\n",
       " ('remove', ('potatoe', 'pan2')),\n",
       " ('cut', ('cheese',)),\n",
       " ('cut', ('bacon',)),\n",
       " ('clean', ('pan2',)),\n",
       " ('put', ('cheese', 'pan2')),\n",
       " ('cook', ('cheese', 'pan2')),\n",
       " ('remove', ('cheese', 'pan2')),\n",
       " ('clean', ('pan2',)),\n",
       " ('put', ('bacon', 'pan2')),\n",
       " ('cook', ('bacon', 'pan2')),\n",
       " ('remove', ('bacon', 'pan2')),\n",
       " ('clean', ('pan2',)),\n",
       " ('clean', ('pan1',))]"
      ]
     },
     "execution_count": 84,
     "metadata": {},
     "output_type": "execute_result"
    }
   ],
   "source": [
    "## Heuristic baseline\n",
    "plan"
   ]
  },
  {
   "cell_type": "code",
   "execution_count": 249,
   "metadata": {},
   "outputs": [
    {
     "data": {
      "text/plain": [
       "[('clean', ('pan2',)),\n",
       " ('cut', ('onion',)),\n",
       " ('cut', ('bacon',)),\n",
       " ('cut', ('cheese',)),\n",
       " ('cut', ('potatoe',)),\n",
       " ('put', ('onion', 'pan2')),\n",
       " ('cook', ('onion', 'pan2')),\n",
       " ('remove', ('onion', 'pan2')),\n",
       " ('clean', ('pan2',)),\n",
       " ('put', ('bacon', 'pan2')),\n",
       " ('cook', ('bacon', 'pan2')),\n",
       " ('remove', ('bacon', 'pan2')),\n",
       " ('clean', ('pan2',)),\n",
       " ('put', ('cheese', 'pan2')),\n",
       " ('cook', ('cheese', 'pan2')),\n",
       " ('remove', ('cheese', 'pan2')),\n",
       " ('clean', ('pan2',)),\n",
       " ('put', ('potatoe', 'pan2')),\n",
       " ('cook', ('potatoe', 'pan2')),\n",
       " ('remove', ('potatoe', 'pan2')),\n",
       " ('clean', ('pan2',))]"
      ]
     },
     "execution_count": 249,
     "metadata": {},
     "output_type": "execute_result"
    }
   ],
   "source": [
    "## HSP baseline\n",
    "plan"
   ]
  },
  {
   "cell_type": "code",
   "execution_count": 301,
   "metadata": {},
   "outputs": [
    {
     "data": {
      "text/plain": [
       "[('clean', ('pan2',)),\n",
       " ('cut', ('potatoe',)),\n",
       " ('put', ('potatoe', 'pan1')),\n",
       " ('cook', ('potatoe', 'pan1')),\n",
       " ('remove', ('potatoe', 'pan1')),\n",
       " ('cut', ('cheese',)),\n",
       " ('put', ('cheese', 'pan2')),\n",
       " ('cook', ('cheese', 'pan2')),\n",
       " ('remove', ('cheese', 'pan2')),\n",
       " ('cut', ('bacon',)),\n",
       " ('cut', ('onion',)),\n",
       " ('clean', ('pan1',)),\n",
       " ('put', ('bacon', 'pan1')),\n",
       " ('cook', ('bacon', 'pan1')),\n",
       " ('remove', ('bacon', 'pan1')),\n",
       " ('clean', ('pan1',)),\n",
       " ('put', ('onion', 'pan1')),\n",
       " ('cook', ('onion', 'pan1')),\n",
       " ('remove', ('onion', 'pan1')),\n",
       " ('clean', ('pan1',)),\n",
       " ('clean', ('pan2',))]"
      ]
     },
     "execution_count": 301,
     "metadata": {},
     "output_type": "execute_result"
    }
   ],
   "source": [
    "## HSP_Neg\n",
    "plan"
   ]
  }
 ],
 "metadata": {
  "kernelspec": {
   "display_name": "base_env",
   "language": "python",
   "name": "base_env"
  },
  "language_info": {
   "codemirror_mode": {
    "name": "ipython",
    "version": 3
   },
   "file_extension": ".py",
   "mimetype": "text/x-python",
   "name": "python",
   "nbconvert_exporter": "python",
   "pygments_lexer": "ipython3",
   "version": "3.8.6"
  }
 },
 "nbformat": 4,
 "nbformat_minor": 2
}
