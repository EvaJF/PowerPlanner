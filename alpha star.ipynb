{
 "cells": [
  {
   "cell_type": "code",
   "execution_count": 20,
   "metadata": {},
   "outputs": [],
   "source": [
    "from abc import ABC, abstractmethod\n",
    "import networkx as nx\n",
    "import numpy as np"
   ]
  },
  {
   "cell_type": "code",
   "execution_count": 21,
   "metadata": {},
   "outputs": [],
   "source": [
    "def distance_one(from_, to_):\n",
    "    return 1\n",
    "\n",
    "def heuristic_0(s):\n",
    "    \"\"\"returns the number of predicates that msut be true in goal state but aren't \"\"\"\n",
    "    state = s.state\n",
    "    goal = s.goal_state\n",
    "    return len(goal - state)"
   ]
  },
  {
   "cell_type": "code",
   "execution_count": 24,
   "metadata": {},
   "outputs": [],
   "source": [
    "class Plannifier(ABC):\n",
    "\n",
    "    def __init__(self, domain):\n",
    "        self.domain = domain\n",
    "        self.actions = domain.action_dic\n",
    "\n",
    "    def solve(self):\n",
    "        pass\n",
    "    \n",
    "    \n",
    "class AlphaStarPlannifier(Plannifier):\n",
    "    # TODO : we could handle the ancestors through an attribute of the class ancestors = Dict(State,List(State))\n",
    "    \n",
    "    def __init__(self, domain, heuristic_fn, dist_fn=distance_one):\n",
    "        self.domain = domain\n",
    "        self.actions = domain.action_dic\n",
    "        self.heuristic_fn = heuristic_fn # S -> R : heuristic distance to end\n",
    "        self.dist_fn = dist_fn # S x S -> R : distance between the states\n",
    "        # list of (node, distance_to_start, value, ancestors) ordered by ascending value\n",
    "        # (value = distance_to_start + heuristic_to_end)\n",
    "        self.nodes = []\n",
    "        \n",
    "    def solve(self):\n",
    "        # TODO : extract iniState from the domain / we coudl also just pass a iniState param in \n",
    "        # __init__ since self.domain is never used\n",
    "        init = self.domain.current_state \n",
    "        # initialize tree search with init state, distance to start 0, heuristic to end, \n",
    "        # empty list of moves to get there\n",
    "        self.nodes = [(init, 0, self.heuristic_fn(init), [])]\n",
    "        solved = init.isFinal()\n",
    "        while not solved:\n",
    "            new_nodes, ancestors = self.expand()\n",
    "            for node, ancestors in zip(new_nodes, ancestors):\n",
    "                if node.isFinal():\n",
    "                    return ancestors\n",
    "        print('No plan found !')\n",
    "        return\n",
    "        \n",
    "    def expand(self):\n",
    "        \"\"\"finds the best node and adds its children to the stack of considered states\n",
    "        returns: the list of added children\"\"\"\n",
    "        best_node, dist, value, ancestors = self.nodes.pop() # get our best current node\n",
    "        print([(a[0],a[1]) for a in ancestors])\n",
    "        print('Distance {} | Heuristic {}'.format(dist, value-dist))\n",
    "        children = best_node.getChildren(self.actions)\n",
    "        children_ancestors = []\n",
    "        children_nodes = []\n",
    "        for move_type, move_args, child in children:\n",
    "            move = (move_type, move_args)\n",
    "            child_ancestors = ancestors + [move]\n",
    "            # g(n) : distance to start = distance of parent to start + distance of child to parent\n",
    "            child_dist = dist + self.dist_fn(best_node, child)\n",
    "            # h(n) : (estimated) distance to end\n",
    "            child_heur = self.heuristic_fn(child)\n",
    "            child_value = child_dist + child_heur\n",
    "            self.insert_node(child, child_dist, child_value, child_ancestors) \n",
    "            children_ancestors.append(child_ancestors)\n",
    "            children_nodes.append(child)\n",
    "        return children_nodes, children_ancestors\n",
    "        \n",
    "    def insert_node(self, node, dist, value, ancestors):\n",
    "        \"\"\"insert (node,value,ancestors) in the list of considered states and returns the index where it was inserted\"\"\"\n",
    "        idx = 0\n",
    "         # handle extreme case that will cause problems with the while\n",
    "        if len(self.nodes) == 0:\n",
    "            self.nodes.append((node,dist, value, ancestors))\n",
    "            return 0\n",
    "        if value >= self.nodes[-1][2]:\n",
    "            self.nodes.append((node,dist, value, ancestors))\n",
    "            return len(self.nodes)-1\n",
    "        # find index where to insert the node\n",
    "        while self.nodes[idx][1] < value:\n",
    "            idx += 1\n",
    "        self.nodes.insert(idx,(node,dist, value, ancestors))\n",
    "        return idx"
   ]
  },
  {
   "cell_type": "code",
   "execution_count": 1,
   "metadata": {},
   "outputs": [
    {
     "output_type": "stream",
     "name": "stdout",
     "text": [
      "ANTLR runtime and generated code versions disagree: 4.9.2!=4.7\n",
      "ANTLR runtime and generated code versions disagree: 4.9.2!=4.7\n",
      "ANTLR runtime and generated code versions disagree: 4.9.2!=4.7\n",
      "ANTLR runtime and generated code versions disagree: 4.9.2!=4.7\n"
     ]
    },
    {
     "output_type": "error",
     "ename": "NameError",
     "evalue": "name 'AlphaStarPlannifier' is not defined",
     "traceback": [
      "\u001b[0;31m---------------------------------------------------------------------------\u001b[0m",
      "\u001b[0;31mNameError\u001b[0m                                 Traceback (most recent call last)",
      "\u001b[0;32m<ipython-input-1-132a37b153f0>\u001b[0m in \u001b[0;36m<module>\u001b[0;34m\u001b[0m\n\u001b[1;32m      8\u001b[0m \u001b[0;34m\u001b[0m\u001b[0m\n\u001b[1;32m      9\u001b[0m \u001b[0mdomain\u001b[0m \u001b[0;34m=\u001b[0m \u001b[0mDomain\u001b[0m\u001b[0;34m(\u001b[0m\u001b[0mpddlpy_domprob\u001b[0m\u001b[0;34m=\u001b[0m\u001b[0mdomprob\u001b[0m\u001b[0;34m)\u001b[0m\u001b[0;34m\u001b[0m\u001b[0;34m\u001b[0m\u001b[0m\n\u001b[0;32m---> 10\u001b[0;31m \u001b[0mplanif\u001b[0m \u001b[0;34m=\u001b[0m \u001b[0mAlphaStarPlannifier\u001b[0m\u001b[0;34m(\u001b[0m\u001b[0mdomain\u001b[0m\u001b[0;34m=\u001b[0m\u001b[0mdomain\u001b[0m\u001b[0;34m,\u001b[0m \u001b[0mheuristic_fn\u001b[0m\u001b[0;34m=\u001b[0m\u001b[0mheuristic_0\u001b[0m\u001b[0;34m)\u001b[0m\u001b[0;34m\u001b[0m\u001b[0;34m\u001b[0m\u001b[0m\n\u001b[0m\u001b[1;32m     11\u001b[0m \u001b[0mplanif\u001b[0m\u001b[0;34m.\u001b[0m\u001b[0msolve\u001b[0m\u001b[0;34m(\u001b[0m\u001b[0;34m)\u001b[0m\u001b[0;34m\u001b[0m\u001b[0;34m\u001b[0m\u001b[0m\n",
      "\u001b[0;31mNameError\u001b[0m: name 'AlphaStarPlannifier' is not defined"
     ]
    }
   ],
   "source": [
    "from pddlpy import DomainProblem\n",
    "from parser import Domain\n",
    "\n",
    "# for testing\n",
    "domainfile = \"./domains/domain_recipies.pddl\" \n",
    "problemfile = \"./domains/problems/pb_tartiflette.pddl\" \n",
    "domprob = DomainProblem(domainfile, problemfile)\n",
    "\n",
    "domain = Domain(pddlpy_domprob=domprob)\n",
    "planif = AlphaStarPlannifier(domain=domain, heuristic_fn=heuristic_0)\n",
    "planif.solve()"
   ]
  }
 ],
 "metadata": {
  "kernelspec": {
   "display_name": "base_env",
   "language": "python",
   "name": "base_env"
  }
 },
 "nbformat": 4,
 "nbformat_minor": 2
}