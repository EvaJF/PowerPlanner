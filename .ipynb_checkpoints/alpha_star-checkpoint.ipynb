{
 "cells": [
  {
   "cell_type": "code",
   "execution_count": 1,
   "metadata": {},
   "outputs": [],
   "source": [
    "from pddlpy import DomainProblem\n",
    "from parser import Domain\n",
    "from PDDL import PDDL_Parser\n",
    "from heuristic import Heuristic_HSP, Heuristic_HSP_Neg, heuristic_null, heuristic_0\n",
    "from planifier import AlphaStarPlannifier"
   ]
  },
  {
   "cell_type": "markdown",
   "metadata": {},
   "source": [
    "## Experiments"
   ]
  },
  {
   "cell_type": "code",
   "execution_count": 2,
   "metadata": {},
   "outputs": [
    {
     "name": "stdout",
     "output_type": "stream",
     "text": [
      "ANTLR runtime and generated code versions disagree: 4.9.2!=4.7\n",
      "ANTLR runtime and generated code versions disagree: 4.9.2!=4.7\n",
      "ANTLR runtime and generated code versions disagree: 4.9.2!=4.7\n",
      "ANTLR runtime and generated code versions disagree: 4.9.2!=4.7\n",
      "Plan size: 21 | Number of visited nodes: 7505 | Solved in 30.366002798080444s\n"
     ]
    }
   ],
   "source": [
    "# for testing HSP_Neg\n",
    "domainfile = \"./pddl_domains/domain_recipies.pddl\" \n",
    "problemfile = \"./pddl_domains/pb_tartiflette.pddl\" \n",
    "\n",
    "domain = Domain(domainfile, problemfile)\n",
    "hsp = Heuristic_HSP_Neg(domain=domain)\n",
    "planif = AlphaStarPlannifier(domain=domain, heuristic_fn=hsp.heuristic_hsp)\n",
    "plan = planif.solve()"
   ]
  },
  {
   "cell_type": "code",
   "execution_count": 5,
   "metadata": {},
   "outputs": [
    {
     "name": "stdout",
     "output_type": "stream",
     "text": [
      "ANTLR runtime and generated code versions disagree: 4.9.2!=4.7\n",
      "ANTLR runtime and generated code versions disagree: 4.9.2!=4.7\n",
      "ANTLR runtime and generated code versions disagree: 4.9.2!=4.7\n",
      "ANTLR runtime and generated code versions disagree: 4.9.2!=4.7\n",
      "Plan size: 21 | Number of visited nodes: 6753 | Solved in 82.13814401626587s\n"
     ]
    }
   ],
   "source": [
    "# for testing HSP_Neg (with FAIL)\n",
    "domainfile = \"./domains/domain_recipies.pddl\" \n",
    "problemfile = \"./domains/problems/pb_tartiflette.pddl\" \n",
    "\n",
    "domain = Domain(domainfile, problemfile)\n",
    "hsp = Heuristic_HSP_Neg(domain=domain)\n",
    "planif = AlphaStarPlannifier(domain=domain, heuristic_fn=hsp.heuristic_hsp)\n",
    "plan = planif.solve()"
   ]
  },
  {
   "cell_type": "code",
   "execution_count": 6,
   "metadata": {},
   "outputs": [
    {
     "name": "stdout",
     "output_type": "stream",
     "text": [
      "ANTLR runtime and generated code versions disagree: 4.9.2!=4.7\n",
      "ANTLR runtime and generated code versions disagree: 4.9.2!=4.7\n",
      "ANTLR runtime and generated code versions disagree: 4.9.2!=4.7\n",
      "ANTLR runtime and generated code versions disagree: 4.9.2!=4.7\n",
      "Plan size: 21 | Number of visited nodes: 7761 | Solved in 116.35712790489197s\n"
     ]
    }
   ],
   "source": [
    "# for testing HSP+\n",
    "domainfile = \"./domains/domain_recipies.pddl\" \n",
    "problemfile = \"./domains/problems/pb_tartiflette.pddl\" \n",
    "\n",
    "domain = Domain(domainfile, problemfile)\n",
    "hsp = Heuristic_HSP(domain=domain)\n",
    "planif = AlphaStarPlannifier(domain=domain, heuristic_fn=hsp.heuristic_hsp)\n",
    "plan = planif.solve()"
   ]
  },
  {
   "cell_type": "code",
   "execution_count": 7,
   "metadata": {},
   "outputs": [
    {
     "name": "stdout",
     "output_type": "stream",
     "text": [
      "ANTLR runtime and generated code versions disagree: 4.9.2!=4.7\n",
      "ANTLR runtime and generated code versions disagree: 4.9.2!=4.7\n",
      "ANTLR runtime and generated code versions disagree: 4.9.2!=4.7\n",
      "ANTLR runtime and generated code versions disagree: 4.9.2!=4.7\n",
      "Plan size: 21 | Number of visited nodes: 7357 | Solved in 92.22582387924194s\n"
     ]
    }
   ],
   "source": [
    "# for testing HSPmax\n",
    "domainfile = \"./domains/domain_recipies.pddl\" \n",
    "problemfile = \"./domains/problems/pb_tartiflette.pddl\" \n",
    "\n",
    "domain = Domain(domainfile, problemfile)\n",
    "hsp = Heuristic_HSP(domain=domain)\n",
    "planif = AlphaStarPlannifier(domain=domain, heuristic_fn=hsp.heuristic_hsp)\n",
    "plan = planif.solve()"
   ]
  },
  {
   "cell_type": "code",
   "execution_count": 8,
   "metadata": {},
   "outputs": [
    {
     "name": "stdout",
     "output_type": "stream",
     "text": [
      "ANTLR runtime and generated code versions disagree: 4.9.2!=4.7\n",
      "ANTLR runtime and generated code versions disagree: 4.9.2!=4.7\n",
      "ANTLR runtime and generated code versions disagree: 4.9.2!=4.7\n",
      "ANTLR runtime and generated code versions disagree: 4.9.2!=4.7\n",
      "Plan size: 21 | Number of visited nodes: 14339 | Solved in 94.94151902198792s\n"
     ]
    }
   ],
   "source": [
    "# for testing Heuristic_0\n",
    "domainfile = \"./domains/domain_recipies.pddl\" \n",
    "problemfile = \"./domains/problems/pb_tartiflette.pddl\" \n",
    "domprob = DomainProblem(domainfile, problemfile)\n",
    "parser = PDDL_Parser()\n",
    "parser.parse_domain(domainfile)\n",
    "parser.parse_problem(problemfile)\n",
    "\n",
    "domain = Domain(pddlpy_domprob=domprob, parser=parser)\n",
    "planif = AlphaStarPlannifier(domain=domain, heuristic_fn=heuristic_0)\n",
    "plan = planif.solve()"
   ]
  },
  {
   "cell_type": "code",
   "execution_count": 9,
   "metadata": {},
   "outputs": [
    {
     "name": "stdout",
     "output_type": "stream",
     "text": [
      "ANTLR runtime and generated code versions disagree: 4.9.2!=4.7\n",
      "ANTLR runtime and generated code versions disagree: 4.9.2!=4.7\n",
      "ANTLR runtime and generated code versions disagree: 4.9.2!=4.7\n",
      "ANTLR runtime and generated code versions disagree: 4.9.2!=4.7\n",
      "Plan size: 21 | Number of visited nodes: 14894 | Solved in 87.6511492729187s\n"
     ]
    }
   ],
   "source": [
    "# for testing Heuristic_null\n",
    "domainfile = \"./domains/domain_recipies.pddl\" \n",
    "problemfile = \"./domains/problems/pb_tartiflette.pddl\" \n",
    "domprob = DomainProblem(domainfile, problemfile)\n",
    "parser = PDDL_Parser()\n",
    "parser.parse_domain(domainfile)\n",
    "parser.parse_problem(problemfile)\n",
    "\n",
    "domain = Domain(pddlpy_domprob=domprob, parser=parser)\n",
    "planif = AlphaStarPlannifier(domain=domain, heuristic_fn=heuristic_null)\n",
    "plan = planif.solve()"
   ]
  },
  {
   "cell_type": "code",
   "execution_count": 82,
   "metadata": {},
   "outputs": [
    {
     "data": {
      "text/plain": [
       "[('clean', ('pan2',)),\n",
       " ('cut', ('potatoe',)),\n",
       " ('put', ('potatoe', 'pan1')),\n",
       " ('cook', ('potatoe', 'pan1')),\n",
       " ('remove', ('potatoe', 'pan1')),\n",
       " ('cut', ('cheese',)),\n",
       " ('put', ('cheese', 'pan2')),\n",
       " ('cook', ('cheese', 'pan2')),\n",
       " ('remove', ('cheese', 'pan2')),\n",
       " ('cut', ('bacon',)),\n",
       " ('cut', ('onion',)),\n",
       " ('clean', ('pan1',)),\n",
       " ('put', ('bacon', 'pan1')),\n",
       " ('cook', ('bacon', 'pan1')),\n",
       " ('remove', ('bacon', 'pan1')),\n",
       " ('clean', ('pan1',)),\n",
       " ('put', ('onion', 'pan1')),\n",
       " ('cook', ('onion', 'pan1')),\n",
       " ('remove', ('onion', 'pan1')),\n",
       " ('clean', ('pan1',)),\n",
       " ('clean', ('pan2',))]"
      ]
     },
     "execution_count": 82,
     "metadata": {},
     "output_type": "execute_result"
    }
   ],
   "source": [
    "## Heuristic null\n",
    "plan"
   ]
  },
  {
   "cell_type": "code",
   "execution_count": 84,
   "metadata": {},
   "outputs": [
    {
     "data": {
      "text/plain": [
       "[('clean', ('pan2',)),\n",
       " ('cut', ('onion',)),\n",
       " ('put', ('onion', 'pan1')),\n",
       " ('cook', ('onion', 'pan1')),\n",
       " ('remove', ('onion', 'pan1')),\n",
       " ('cut', ('potatoe',)),\n",
       " ('put', ('potatoe', 'pan2')),\n",
       " ('cook', ('potatoe', 'pan2')),\n",
       " ('remove', ('potatoe', 'pan2')),\n",
       " ('cut', ('cheese',)),\n",
       " ('cut', ('bacon',)),\n",
       " ('clean', ('pan2',)),\n",
       " ('put', ('cheese', 'pan2')),\n",
       " ('cook', ('cheese', 'pan2')),\n",
       " ('remove', ('cheese', 'pan2')),\n",
       " ('clean', ('pan2',)),\n",
       " ('put', ('bacon', 'pan2')),\n",
       " ('cook', ('bacon', 'pan2')),\n",
       " ('remove', ('bacon', 'pan2')),\n",
       " ('clean', ('pan2',)),\n",
       " ('clean', ('pan1',))]"
      ]
     },
     "execution_count": 84,
     "metadata": {},
     "output_type": "execute_result"
    }
   ],
   "source": [
    "## Heuristic baseline\n",
    "plan"
   ]
  },
  {
   "cell_type": "code",
   "execution_count": 249,
   "metadata": {},
   "outputs": [
    {
     "data": {
      "text/plain": [
       "[('clean', ('pan2',)),\n",
       " ('cut', ('onion',)),\n",
       " ('cut', ('bacon',)),\n",
       " ('cut', ('cheese',)),\n",
       " ('cut', ('potatoe',)),\n",
       " ('put', ('onion', 'pan2')),\n",
       " ('cook', ('onion', 'pan2')),\n",
       " ('remove', ('onion', 'pan2')),\n",
       " ('clean', ('pan2',)),\n",
       " ('put', ('bacon', 'pan2')),\n",
       " ('cook', ('bacon', 'pan2')),\n",
       " ('remove', ('bacon', 'pan2')),\n",
       " ('clean', ('pan2',)),\n",
       " ('put', ('cheese', 'pan2')),\n",
       " ('cook', ('cheese', 'pan2')),\n",
       " ('remove', ('cheese', 'pan2')),\n",
       " ('clean', ('pan2',)),\n",
       " ('put', ('potatoe', 'pan2')),\n",
       " ('cook', ('potatoe', 'pan2')),\n",
       " ('remove', ('potatoe', 'pan2')),\n",
       " ('clean', ('pan2',))]"
      ]
     },
     "execution_count": 249,
     "metadata": {},
     "output_type": "execute_result"
    }
   ],
   "source": [
    "## HSP baseline\n",
    "plan"
   ]
  },
  {
   "cell_type": "code",
   "execution_count": 301,
   "metadata": {},
   "outputs": [
    {
     "data": {
      "text/plain": [
       "[('clean', ('pan2',)),\n",
       " ('cut', ('potatoe',)),\n",
       " ('put', ('potatoe', 'pan1')),\n",
       " ('cook', ('potatoe', 'pan1')),\n",
       " ('remove', ('potatoe', 'pan1')),\n",
       " ('cut', ('cheese',)),\n",
       " ('put', ('cheese', 'pan2')),\n",
       " ('cook', ('cheese', 'pan2')),\n",
       " ('remove', ('cheese', 'pan2')),\n",
       " ('cut', ('bacon',)),\n",
       " ('cut', ('onion',)),\n",
       " ('clean', ('pan1',)),\n",
       " ('put', ('bacon', 'pan1')),\n",
       " ('cook', ('bacon', 'pan1')),\n",
       " ('remove', ('bacon', 'pan1')),\n",
       " ('clean', ('pan1',)),\n",
       " ('put', ('onion', 'pan1')),\n",
       " ('cook', ('onion', 'pan1')),\n",
       " ('remove', ('onion', 'pan1')),\n",
       " ('clean', ('pan1',)),\n",
       " ('clean', ('pan2',))]"
      ]
     },
     "execution_count": 301,
     "metadata": {},
     "output_type": "execute_result"
    }
   ],
   "source": [
    "## HSP_Neg\n",
    "plan"
   ]
  }
 ],
 "metadata": {
  "kernelspec": {
   "display_name": "base_env",
   "language": "python",
   "name": "base_env"
  },
  "language_info": {
   "codemirror_mode": {
    "name": "ipython",
    "version": 3
   },
   "file_extension": ".py",
   "mimetype": "text/x-python",
   "name": "python",
   "nbconvert_exporter": "python",
   "pygments_lexer": "ipython3",
   "version": "3.8.6"
  }
 },
 "nbformat": 4,
 "nbformat_minor": 2
}
