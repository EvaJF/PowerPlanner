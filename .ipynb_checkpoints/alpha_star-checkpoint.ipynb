{
 "cells": [
  {
   "cell_type": "code",
   "execution_count": 1,
   "metadata": {},
   "outputs": [],
   "source": [
    "from pddlpy import DomainProblem\n",
    "from parser import Domain\n",
    "from PDDL import PDDL_Parser\n",
    "from heuristic import Heuristic_HSP, Heuristic_HSP_Neg, heuristic_null, heuristic_0\n",
    "from planifier import AlphaStarPlannifier"
   ]
  },
  {
   "cell_type": "code",
   "execution_count": 2,
   "metadata": {},
   "outputs": [
    {
     "ename": "NameError",
     "evalue": "name 'domain' is not defined",
     "output_type": "error",
     "traceback": [
      "\u001b[0;31m---------------------------------------------------------------------------\u001b[0m",
      "\u001b[0;31mNameError\u001b[0m                                 Traceback (most recent call last)",
      "\u001b[0;32m<ipython-input-2-a05d6d4b24e0>\u001b[0m in \u001b[0;36m<module>\u001b[0;34m\u001b[0m\n\u001b[0;32m----> 1\u001b[0;31m \u001b[0mprint\u001b[0m\u001b[0;34m(\u001b[0m\u001b[0mdomain\u001b[0m\u001b[0;34m.\u001b[0m\u001b[0mdomprob\u001b[0m\u001b[0;34m.\u001b[0m\u001b[0minitialstate\u001b[0m\u001b[0;34m(\u001b[0m\u001b[0;34m)\u001b[0m\u001b[0;34m)\u001b[0m\u001b[0;34m\u001b[0m\u001b[0;34m\u001b[0m\u001b[0m\n\u001b[0m\u001b[1;32m      2\u001b[0m \u001b[0;32mfor\u001b[0m \u001b[0mname\u001b[0m\u001b[0;34m,\u001b[0m \u001b[0mop\u001b[0m \u001b[0;32min\u001b[0m \u001b[0mdomain\u001b[0m\u001b[0;34m.\u001b[0m\u001b[0mdomprob\u001b[0m\u001b[0;34m.\u001b[0m\u001b[0mdomain\u001b[0m\u001b[0;34m.\u001b[0m\u001b[0moperators\u001b[0m\u001b[0;34m.\u001b[0m\u001b[0mitems\u001b[0m\u001b[0;34m(\u001b[0m\u001b[0;34m)\u001b[0m\u001b[0;34m:\u001b[0m\u001b[0;34m\u001b[0m\u001b[0;34m\u001b[0m\u001b[0m\n\u001b[1;32m      3\u001b[0m     \u001b[0mprint\u001b[0m\u001b[0;34m(\u001b[0m\u001b[0;34m)\u001b[0m\u001b[0;34m\u001b[0m\u001b[0;34m\u001b[0m\u001b[0m\n\u001b[1;32m      4\u001b[0m     \u001b[0mprint\u001b[0m\u001b[0;34m(\u001b[0m\u001b[0mop\u001b[0m\u001b[0;34m.\u001b[0m\u001b[0m__dict__\u001b[0m\u001b[0;34m)\u001b[0m\u001b[0;34m\u001b[0m\u001b[0;34m\u001b[0m\u001b[0m\n",
      "\u001b[0;31mNameError\u001b[0m: name 'domain' is not defined"
     ]
    }
   ],
   "source": [
    "print(domain.domprob.initialstate())\n",
    "for name, op in domain.domprob.domain.operators.items():\n",
    "    print()\n",
    "    print(op.__dict__)"
   ]
  },
  {
   "cell_type": "markdown",
   "metadata": {},
   "source": [
    "## Experiments"
   ]
  },
  {
   "cell_type": "code",
   "execution_count": null,
   "metadata": {},
   "outputs": [
    {
     "name": "stdout",
     "output_type": "stream",
     "text": [
      "***  SOLITAIRE  ***\n",
      "ANTLR runtime and generated code versions disagree: 4.9.2!=4.7\n",
      "ANTLR runtime and generated code versions disagree: 4.9.2!=4.7\n",
      "ANTLR runtime and generated code versions disagree: 4.9.2!=4.7\n",
      "ANTLR runtime and generated code versions disagree: 4.9.2!=4.7\n",
      "problem_solitaire_7cards_1color.pddl\n",
      "from_deck_to_base <parser.Action object at 0x7fab83ebd400>\n",
      "from_base_to_base <parser.Action object at 0x7fab83ebdf40>\n",
      "place_from_deck <parser.Action object at 0x7fab83ebd460>\n",
      "place_from_base <parser.Action object at 0x7fab83ebd250>\n",
      "return <parser.Action object at 0x7fab83ebde50>\n",
      "FAILED do tue  pop from empty list\n",
      "ANTLR runtime and generated code versions disagree: 4.9.2!=4.7\n",
      "ANTLR runtime and generated code versions disagree: 4.9.2!=4.7\n",
      "ANTLR runtime and generated code versions disagree: 4.9.2!=4.7\n",
      "ANTLR runtime and generated code versions disagree: 4.9.2!=4.7\n",
      "problem_solitaire.pddl\n",
      "from_deck_to_base <parser.Action object at 0x7fab83ea1ee0>\n",
      "from_base_to_base <parser.Action object at 0x7fab83ea1f40>\n",
      "place_from_deck <parser.Action object at 0x7fab83ea1fa0>\n",
      "place_from_base <parser.Action object at 0x7fab83ea3040>\n",
      "return <parser.Action object at 0x7fab83ea30a0>\n",
      "FAILED do tue  pop from empty list\n",
      "ANTLR runtime and generated code versions disagree: 4.9.2!=4.7\n",
      "ANTLR runtime and generated code versions disagree: 4.9.2!=4.7\n",
      "ANTLR runtime and generated code versions disagree: 4.9.2!=4.7\n",
      "ANTLR runtime and generated code versions disagree: 4.9.2!=4.7\n",
      "problem_solitaire_7cards_2colors.pddl\n",
      "from_deck_to_base <parser.Action object at 0x7fab83e8b2e0>\n",
      "from_base_to_base <parser.Action object at 0x7fab83e8b340>\n",
      "place_from_deck <parser.Action object at 0x7fab83e8b3a0>\n",
      "place_from_base <parser.Action object at 0x7fab83e8b400>\n",
      "return <parser.Action object at 0x7fab83e8b460>\n",
      "FAILED do tue  pop from empty list\n",
      "ANTLR runtime and generated code versions disagree: 4.9.2!=4.7\n",
      "ANTLR runtime and generated code versions disagree: 4.9.2!=4.7\n",
      "ANTLR runtime and generated code versions disagree: 4.9.2!=4.7\n",
      "ANTLR runtime and generated code versions disagree: 4.9.2!=4.7\n",
      "problem.pddl\n",
      "from_deck_to_base <parser.Action object at 0x7fab83fad190>\n",
      "from_base_to_base <parser.Action object at 0x7fab83fad1f0>\n",
      "place_from_deck <parser.Action object at 0x7fab83fad250>\n",
      "place_from_base <parser.Action object at 0x7fab83fad2b0>\n",
      "return <parser.Action object at 0x7fab83fad310>\n",
      "FAILED do tue  pop from empty list\n",
      "ANTLR runtime and generated code versions disagree: 4.9.2!=4.7\n",
      "ANTLR runtime and generated code versions disagree: 4.9.2!=4.7\n",
      "ANTLR runtime and generated code versions disagree: 4.9.2!=4.7\n",
      "ANTLR runtime and generated code versions disagree: 4.9.2!=4.7\n"
     ]
    },
    {
     "name": "stderr",
     "output_type": "stream",
     "text": [
      "line 62:5 missing ')' at '('\n"
     ]
    },
    {
     "name": "stdout",
     "output_type": "stream",
     "text": [
      "problem_solitaire_3cards_2colors.pddl\n",
      "from_deck_to_base <parser.Action object at 0x7fab83e8bbb0>\n",
      "from_base_to_base <parser.Action object at 0x7fab83e8be80>\n",
      "place_from_deck <parser.Action object at 0x7fab83e8b520>\n",
      "place_from_base <parser.Action object at 0x7fab83e8b760>\n",
      "return <parser.Action object at 0x7fab83e8b910>\n",
      "FAILED do tue  pop from empty list\n",
      "ANTLR runtime and generated code versions disagree: 4.9.2!=4.7\n",
      "ANTLR runtime and generated code versions disagree: 4.9.2!=4.7\n",
      "ANTLR runtime and generated code versions disagree: 4.9.2!=4.7\n",
      "ANTLR runtime and generated code versions disagree: 4.9.2!=4.7\n",
      "problem_solitaire_5cards_1color.pddl\n",
      "from_deck_to_base <parser.Action object at 0x7fab83f93b50>\n",
      "from_base_to_base <parser.Action object at 0x7fab83f93bb0>\n",
      "place_from_deck <parser.Action object at 0x7fab83f93c10>\n",
      "place_from_base <parser.Action object at 0x7fab83f93c70>\n",
      "return <parser.Action object at 0x7fab83f93cd0>\n",
      "FAILED do tue  pop from empty list\n",
      "ANTLR runtime and generated code versions disagree: 4.9.2!=4.7\n",
      "ANTLR runtime and generated code versions disagree: 4.9.2!=4.7\n",
      "ANTLR runtime and generated code versions disagree: 4.9.2!=4.7\n",
      "ANTLR runtime and generated code versions disagree: 4.9.2!=4.7\n",
      "problem2.pddl\n",
      "from_deck_to_base <parser.Action object at 0x7fab840dcc70>\n",
      "from_base_to_base <parser.Action object at 0x7fab840dccd0>\n",
      "place_from_deck <parser.Action object at 0x7fab840dcd30>\n",
      "place_from_base <parser.Action object at 0x7fab840dcd90>\n",
      "return <parser.Action object at 0x7fab840dcdf0>\n",
      "FAILED do tue  pop from empty list\n",
      "ANTLR runtime and generated code versions disagree: 4.9.2!=4.7\n",
      "ANTLR runtime and generated code versions disagree: 4.9.2!=4.7\n",
      "ANTLR runtime and generated code versions disagree: 4.9.2!=4.7\n",
      "ANTLR runtime and generated code versions disagree: 4.9.2!=4.7\n",
      "problem_solitaire_4card_1col_hiddencards.pddl\n",
      "from_deck_to_base <parser.Action object at 0x7fab83e92220>\n",
      "from_base_to_base <parser.Action object at 0x7fab83e92670>\n",
      "place_from_deck <parser.Action object at 0x7fab83e92b50>\n",
      "place_from_base <parser.Action object at 0x7fab83e922b0>\n",
      "return <parser.Action object at 0x7fab83e92cd0>\n",
      "FAILED do tue  pop from empty list\n",
      "ANTLR runtime and generated code versions disagree: 4.9.2!=4.7\n",
      "ANTLR runtime and generated code versions disagree: 4.9.2!=4.7\n",
      "ANTLR runtime and generated code versions disagree: 4.9.2!=4.7\n",
      "ANTLR runtime and generated code versions disagree: 4.9.2!=4.7\n",
      "problem_solitaire_7cards_2colors_redblack.pddl\n",
      "from_deck_to_base <parser.Action object at 0x7fab840f5640>\n",
      "from_base_to_base <parser.Action object at 0x7fab840f56a0>\n",
      "place_from_deck <parser.Action object at 0x7fab840f5700>\n",
      "place_from_base <parser.Action object at 0x7fab840f5760>\n",
      "return <parser.Action object at 0x7fab840f57c0>\n",
      "FAILED do tue  pop from empty list\n",
      "***  HANOI  ***\n",
      "ANTLR runtime and generated code versions disagree: 4.9.2!=4.7\n",
      "ANTLR runtime and generated code versions disagree: 4.9.2!=4.7\n",
      "ANTLR runtime and generated code versions disagree: 4.9.2!=4.7\n",
      "ANTLR runtime and generated code versions disagree: 4.9.2!=4.7\n",
      "Hanoi_pb4.pddl\n",
      "move <parser.Action object at 0x7fab840775b0>\n",
      "move <parser.Action object at 0x7fab840775b0>\n",
      "move <parser.Action object at 0x7fab840775b0>\n",
      "move <parser.Action object at 0x7fab840775b0>\n",
      "move <parser.Action object at 0x7fab840775b0>\n"
     ]
    }
   ],
   "source": [
    "# for testing HSP_Neg\n",
    "domainfile = \"./pddl_domains/domain_recipies.pddl\" \n",
    "problemfile = \"./pddl_domains/pb_traiteur.pddl\" \n",
    "import os\n",
    "root = './planning_domains'\n",
    "for domain_folder in os.listdir(root):\n",
    "    print('*** ',domain_folder.upper(),' ***')\n",
    "    domainfile = os.path.join(root, domain_folder, 'domain.pddl')\n",
    "    for file in os.listdir(os.path.join(root, domain_folder)):\n",
    "        if file == 'domain.pddl':\n",
    "            continue\n",
    "        try:\n",
    "            problemfile = os.path.join(root, domain_folder, file)\n",
    "            domain = Domain(domainfile, problemfile)\n",
    "            hsp = Heuristic_HSP_Neg(domain=domain)\n",
    "            planif = AlphaStarPlannifier(domain=domain, heuristic_fn=hsp.heuristic_hsp)\n",
    "            print(file)\n",
    "            plan = planif.solve()\n",
    "        except Exception as e:\n",
    "            print()\n",
    "            print('FAILED do tue ', e)"
   ]
  },
  {
   "cell_type": "code",
   "execution_count": 9,
   "metadata": {},
   "outputs": [
    {
     "name": "stdout",
     "output_type": "stream",
     "text": [
      "Plan size: 21 | Number of visited nodes: 7505 | Solved in 31.25601100921631s\n"
     ]
    }
   ],
   "source": [
    "# for testing HSP_Neg (with FAIL)\n",
    "hsp = Heuristic_HSP_Neg(domain=domain)\n",
    "planif = AlphaStarPlannifier(domain=domain, heuristic_fn=hsp.heuristic_hsp)\n",
    "plan = planif.solve()"
   ]
  },
  {
   "cell_type": "code",
   "execution_count": 10,
   "metadata": {},
   "outputs": [
    {
     "name": "stdout",
     "output_type": "stream",
     "text": [
      "Plan size: 21 | Number of visited nodes: 8285 | Solved in 38.7452290058136s\n"
     ]
    }
   ],
   "source": [
    "# for testing HSP+\n",
    "hsp = Heuristic_HSP(domain=domain)\n",
    "planif = AlphaStarPlannifier(domain=domain, heuristic_fn=hsp.heuristic_hsp)\n",
    "plan = planif.solve()"
   ]
  },
  {
   "cell_type": "code",
   "execution_count": 11,
   "metadata": {},
   "outputs": [
    {
     "name": "stdout",
     "output_type": "stream",
     "text": [
      "Plan size: 21 | Number of visited nodes: 8285 | Solved in 36.37448716163635s\n"
     ]
    }
   ],
   "source": [
    "# for testing HSPmax\n",
    "hsp = Heuristic_HSP(domain=domain)\n",
    "planif = AlphaStarPlannifier(domain=domain, heuristic_fn=hsp.heuristic_hsp)\n",
    "plan = planif.solve()"
   ]
  },
  {
   "cell_type": "code",
   "execution_count": 12,
   "metadata": {},
   "outputs": [
    {
     "ename": "NameError",
     "evalue": "name 'domprob' is not defined",
     "output_type": "error",
     "traceback": [
      "\u001b[0;31m---------------------------------------------------------------------------\u001b[0m",
      "\u001b[0;31mNameError\u001b[0m                                 Traceback (most recent call last)",
      "\u001b[0;32m<ipython-input-12-b269968be796>\u001b[0m in \u001b[0;36m<module>\u001b[0;34m\u001b[0m\n\u001b[1;32m      1\u001b[0m \u001b[0;31m# for testing Heuristic_0\u001b[0m\u001b[0;34m\u001b[0m\u001b[0;34m\u001b[0m\u001b[0;34m\u001b[0m\u001b[0m\n\u001b[0;32m----> 2\u001b[0;31m \u001b[0mdomain\u001b[0m \u001b[0;34m=\u001b[0m \u001b[0mDomain\u001b[0m\u001b[0;34m(\u001b[0m\u001b[0mpddlpy_domprob\u001b[0m\u001b[0;34m=\u001b[0m\u001b[0mdomprob\u001b[0m\u001b[0;34m,\u001b[0m \u001b[0mparser\u001b[0m\u001b[0;34m=\u001b[0m\u001b[0mparser\u001b[0m\u001b[0;34m)\u001b[0m\u001b[0;34m\u001b[0m\u001b[0;34m\u001b[0m\u001b[0m\n\u001b[0m\u001b[1;32m      3\u001b[0m \u001b[0mplanif\u001b[0m \u001b[0;34m=\u001b[0m \u001b[0mAlphaStarPlannifier\u001b[0m\u001b[0;34m(\u001b[0m\u001b[0mdomain\u001b[0m\u001b[0;34m=\u001b[0m\u001b[0mdomain\u001b[0m\u001b[0;34m,\u001b[0m \u001b[0mheuristic_fn\u001b[0m\u001b[0;34m=\u001b[0m\u001b[0mheuristic_0\u001b[0m\u001b[0;34m)\u001b[0m\u001b[0;34m\u001b[0m\u001b[0;34m\u001b[0m\u001b[0m\n\u001b[1;32m      4\u001b[0m \u001b[0mplan\u001b[0m \u001b[0;34m=\u001b[0m \u001b[0mplanif\u001b[0m\u001b[0;34m.\u001b[0m\u001b[0msolve\u001b[0m\u001b[0;34m(\u001b[0m\u001b[0;34m)\u001b[0m\u001b[0;34m\u001b[0m\u001b[0;34m\u001b[0m\u001b[0m\n",
      "\u001b[0;31mNameError\u001b[0m: name 'domprob' is not defined"
     ]
    }
   ],
   "source": [
    "# for testing Heuristic_0\n",
    "planif = AlphaStarPlannifier(domain=domain, heuristic_fn=heuristic_0)\n",
    "plan = planif.solve()"
   ]
  },
  {
   "cell_type": "code",
   "execution_count": null,
   "metadata": {},
   "outputs": [],
   "source": [
    "# for testing Heuristic_null\n",
    "domain = Domain(pddlpy_domprob=domprob, parser=parser)\n",
    "planif = AlphaStarPlannifier(domain=domain, heuristic_fn=heuristic_null)\n",
    "plan = planif.solve()"
   ]
  },
  {
   "cell_type": "code",
   "execution_count": null,
   "metadata": {},
   "outputs": [],
   "source": [
    "## Heuristic null\n",
    "plan"
   ]
  },
  {
   "cell_type": "code",
   "execution_count": 84,
   "metadata": {},
   "outputs": [
    {
     "data": {
      "text/plain": [
       "[('clean', ('pan2',)),\n",
       " ('cut', ('onion',)),\n",
       " ('put', ('onion', 'pan1')),\n",
       " ('cook', ('onion', 'pan1')),\n",
       " ('remove', ('onion', 'pan1')),\n",
       " ('cut', ('potatoe',)),\n",
       " ('put', ('potatoe', 'pan2')),\n",
       " ('cook', ('potatoe', 'pan2')),\n",
       " ('remove', ('potatoe', 'pan2')),\n",
       " ('cut', ('cheese',)),\n",
       " ('cut', ('bacon',)),\n",
       " ('clean', ('pan2',)),\n",
       " ('put', ('cheese', 'pan2')),\n",
       " ('cook', ('cheese', 'pan2')),\n",
       " ('remove', ('cheese', 'pan2')),\n",
       " ('clean', ('pan2',)),\n",
       " ('put', ('bacon', 'pan2')),\n",
       " ('cook', ('bacon', 'pan2')),\n",
       " ('remove', ('bacon', 'pan2')),\n",
       " ('clean', ('pan2',)),\n",
       " ('clean', ('pan1',))]"
      ]
     },
     "execution_count": 84,
     "metadata": {},
     "output_type": "execute_result"
    }
   ],
   "source": [
    "## Heuristic baseline\n",
    "plan"
   ]
  },
  {
   "cell_type": "code",
   "execution_count": 249,
   "metadata": {},
   "outputs": [
    {
     "data": {
      "text/plain": [
       "[('clean', ('pan2',)),\n",
       " ('cut', ('onion',)),\n",
       " ('cut', ('bacon',)),\n",
       " ('cut', ('cheese',)),\n",
       " ('cut', ('potatoe',)),\n",
       " ('put', ('onion', 'pan2')),\n",
       " ('cook', ('onion', 'pan2')),\n",
       " ('remove', ('onion', 'pan2')),\n",
       " ('clean', ('pan2',)),\n",
       " ('put', ('bacon', 'pan2')),\n",
       " ('cook', ('bacon', 'pan2')),\n",
       " ('remove', ('bacon', 'pan2')),\n",
       " ('clean', ('pan2',)),\n",
       " ('put', ('cheese', 'pan2')),\n",
       " ('cook', ('cheese', 'pan2')),\n",
       " ('remove', ('cheese', 'pan2')),\n",
       " ('clean', ('pan2',)),\n",
       " ('put', ('potatoe', 'pan2')),\n",
       " ('cook', ('potatoe', 'pan2')),\n",
       " ('remove', ('potatoe', 'pan2')),\n",
       " ('clean', ('pan2',))]"
      ]
     },
     "execution_count": 249,
     "metadata": {},
     "output_type": "execute_result"
    }
   ],
   "source": [
    "## HSP baseline\n",
    "plan"
   ]
  },
  {
   "cell_type": "code",
   "execution_count": 301,
   "metadata": {},
   "outputs": [
    {
     "data": {
      "text/plain": [
       "[('clean', ('pan2',)),\n",
       " ('cut', ('potatoe',)),\n",
       " ('put', ('potatoe', 'pan1')),\n",
       " ('cook', ('potatoe', 'pan1')),\n",
       " ('remove', ('potatoe', 'pan1')),\n",
       " ('cut', ('cheese',)),\n",
       " ('put', ('cheese', 'pan2')),\n",
       " ('cook', ('cheese', 'pan2')),\n",
       " ('remove', ('cheese', 'pan2')),\n",
       " ('cut', ('bacon',)),\n",
       " ('cut', ('onion',)),\n",
       " ('clean', ('pan1',)),\n",
       " ('put', ('bacon', 'pan1')),\n",
       " ('cook', ('bacon', 'pan1')),\n",
       " ('remove', ('bacon', 'pan1')),\n",
       " ('clean', ('pan1',)),\n",
       " ('put', ('onion', 'pan1')),\n",
       " ('cook', ('onion', 'pan1')),\n",
       " ('remove', ('onion', 'pan1')),\n",
       " ('clean', ('pan1',)),\n",
       " ('clean', ('pan2',))]"
      ]
     },
     "execution_count": 301,
     "metadata": {},
     "output_type": "execute_result"
    }
   ],
   "source": [
    "## HSP_Neg\n",
    "plan"
   ]
  }
 ],
 "metadata": {
  "kernelspec": {
   "display_name": "base_env",
   "language": "python",
   "name": "base_env"
  }
 },
 "nbformat": 4,
 "nbformat_minor": 2
}
